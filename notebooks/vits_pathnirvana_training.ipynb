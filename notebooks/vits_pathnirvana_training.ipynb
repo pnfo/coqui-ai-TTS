{
 "cells": [
  {
   "cell_type": "markdown",
   "metadata": {
    "id": "pgh65Jb4zyvH"
   },
   "source": [
    "Let's start a training run of the ljspeech data set with the VITS model.\n",
    "\n",
    "First clone the github Coqui and install the dependencies."
   ]
  },
  {
   "cell_type": "code",
   "execution_count": 2,
   "metadata": {
    "id": "1V2QKl5pyO7_"
   },
   "outputs": [
    {
     "name": "stdout",
     "output_type": "stream",
     "text": [
      "/root/coqui-tts\n"
     ]
    }
   ],
   "source": [
    "! git clone https://github.com/pathnirvana/coqui-tts\n",
    "%cd coqui-tts\n",
    "#! pip install -e ."
   ]
  },
  {
   "cell_type": "code",
   "execution_count": null,
   "metadata": {
    "scrolled": true
   },
   "outputs": [],
   "source": [
    "!sudo apt-get install python3-dev -y\n",
    "!sudo apt-get install build-essential -y"
   ]
  },
  {
   "cell_type": "code",
   "execution_count": null,
   "metadata": {
    "id": "KFJkWN5IFkX2"
   },
   "outputs": [],
   "source": [
    "! make system-deps\n",
    "! make install\n",
    "\n",
    "# following 3 are only for RTX 4090\n",
    "#!pip uninstall torch torchaudio -y\n",
    "#!pip3 install --pre torch torchaudio --index-url https://download.pytorch.org/whl/nightly/cu118\n",
    "#!apt install nvidia-cudnn -y\n",
    "\n",
    "!pip install tensorboard\n",
    "%load_ext tensorboard"
   ]
  },
  {
   "cell_type": "code",
   "execution_count": null,
   "metadata": {
    "id": "DXdjXBn5IVjl"
   },
   "outputs": [],
   "source": [
    "#!pip install TTS"
   ]
  },
  {
   "cell_type": "markdown",
   "metadata": {
    "id": "OhYsbrRR0XUa"
   },
   "source": [
    "Download the ljspeech dataset using the script in the recepies folder"
   ]
  },
  {
   "cell_type": "code",
   "execution_count": null,
   "metadata": {
    "colab": {
     "base_uri": "https://localhost:8080/"
    },
    "id": "bg5dksUW0kOE",
    "outputId": "7cd6f15b-1f52-4c90-a204-0326b0672676"
   },
   "outputs": [],
   "source": [
    "! apt clean\n",
    "! rm -rf ~/.cache/pip/*\n",
    "! sh ./recipes/pathnirvana/download_sinhala.sh"
   ]
  },
  {
   "cell_type": "markdown",
   "metadata": {
    "id": "kzWNByuN0xPR"
   },
   "source": [
    "### Do the training"
   ]
  },
  {
   "cell_type": "code",
   "execution_count": null,
   "metadata": {
    "colab": {
     "base_uri": "https://localhost:8080/"
    },
    "id": "84tYzVkz078W",
    "outputId": "982a16d6-4738-45d0-8abc-894815b62694"
   },
   "outputs": [],
   "source": [
    "! rm -rf ~/.local/share/Trash/files/*\n",
    "# to continue a previous run --continue_path /root/coqui-tts/recipes/pathnirvana/vits_pali_speaker-April-11-2023_11+15AM-11b781cf/\n",
    "!CUDA_VISIBLE_DEVICES=0 python3 recipes/pathnirvana/train_vits_sinhala_speaker.py"
   ]
  },
  {
   "cell_type": "code",
   "execution_count": null,
   "metadata": {},
   "outputs": [],
   "source": [
    "!git pull"
   ]
  },
  {
   "cell_type": "markdown",
   "metadata": {},
   "source": [
    "load tensorboard after connecting to the server via ssh with port 6006 tunnelled"
   ]
  },
  {
   "cell_type": "code",
   "execution_count": null,
   "metadata": {
    "id": "nPdnnTVQCgH0"
   },
   "outputs": [],
   "source": [
    "!tensorboard --logdir /root/coqui-tts/recipes/pathnirvana/vits_pathnirvana-March-08-2023_01+32PM-76fb50f6"
   ]
  },
  {
   "attachments": {},
   "cell_type": "markdown",
   "metadata": {},
   "source": [
    "### Synth voice using the config.json and .pth checkpoint or model file"
   ]
  },
  {
   "cell_type": "code",
   "execution_count": null,
   "metadata": {},
   "outputs": [],
   "source": [
    "import glob, os\n",
    "output_path = \"tts_train_dir\"\n",
    "ckpts = sorted([f for f in glob.glob(output_path+\"/*/*.pth\")])\n",
    "configs = sorted([f for f in glob.glob(output_path+\"/*/*.json\")])"
   ]
  },
  {
   "attachments": {},
   "cell_type": "markdown",
   "metadata": {},
   "source": [
    "synth voice and listen to it"
   ]
  },
  {
   "cell_type": "code",
   "execution_count": null,
   "metadata": {},
   "outputs": [],
   "source": [
    "!tts --text \"Text for TTS\" \\\n",
    "      --model_path $test_ckpt \\\n",
    "      --config_path $test_config \\\n",
    "      --out_path out.wav\n",
    "\n",
    "import IPython\n",
    "IPython.display.Audio(\"out.wav\")"
   ]
  }
 ],
 "metadata": {
  "accelerator": "GPU",
  "colab": {
   "provenance": []
  },
  "gpuClass": "standard",
  "kernelspec": {
   "display_name": "Python 3",
   "language": "python",
   "name": "python3"
  },
  "language_info": {
   "codemirror_mode": {
    "name": "ipython",
    "version": 3
   },
   "file_extension": ".py",
   "mimetype": "text/x-python",
   "name": "python",
   "nbconvert_exporter": "python",
   "pygments_lexer": "ipython3",
   "version": "3.9.6"
  },
  "vscode": {
   "interpreter": {
    "hash": "31f2aee4e71d21fbe5cf8b01ff0e069b9275f58929596ceb00d14d90e3e16cd6"
   }
  }
 },
 "nbformat": 4,
 "nbformat_minor": 1
}
